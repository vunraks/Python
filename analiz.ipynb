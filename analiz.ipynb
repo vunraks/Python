{
 "cells": [
  {
   "cell_type": "code",
   "execution_count": null,
   "metadata": {},
   "outputs": [],
   "source": [
    "# import pandas as pd\n",
    "# data = pd.read_csv(\n",
    "#     \"power.csv\",\n",
    "#     names=[\"country\", \"year\", \"quotity\",\"category\"],\n",
    "#     sep=\",\",\n",
    "#     dtype={\n",
    "#         \"country\": str,\n",
    "#         \"year\": int,\n",
    "#         \"quantity\": float,\n",
    "#         \"category\": int\n",
    "#     },\n",
    "#     skiprows=1\n",
    "# )\n",
    "# print(data.head(15))"
   ]
  },
  {
   "cell_type": "code",
   "execution_count": null,
   "metadata": {},
   "outputs": [],
   "source": [
    "# df = pd.DataFrame([[1,'Bob', 'Builder'],\n",
    "#                    [2, 'Sally', 'Baker'],\n",
    "#                    [3, 'Scott', 'Candle Stick Maker']],\n",
    "# columns=['id', 'name', 'occupation'])\n",
    "# print(df)"
   ]
  },
  {
   "cell_type": "code",
   "execution_count": null,
   "metadata": {},
   "outputs": [],
   "source": [
    "# data_2014 = data[data['year'] == 2008]\n",
    "# print(data_2014.head())"
   ]
  },
  {
   "cell_type": "code",
   "execution_count": null,
   "metadata": {},
   "outputs": [],
   "source": [
    "import numpy as np\n",
    "array = np.random.randint(1, 101, size=10)\n",
    "print(array)\n",
    "even_sum = sum(element for element in array if element % 2 == 0)\n",
    "print(even_sum)"
   ]
  },
  {
   "cell_type": "code",
   "execution_count": null,
   "metadata": {},
   "outputs": [],
   "source": [
    "n = int(input(\"Введите количество членов последовательности Фибоначчи: \"))\n",
    "if n <=0:\n",
    "    print(\"Число должно быть больше 0\")\n",
    "else:\n",
    "    fibonacci = [0,1]\n",
    "    for i in range(2, n):\n",
    "        next_number = fibonacci[i - 1] + fibonacci[i - 2]\n",
    "        fibonacci.append(next_number)\n",
    "    if n == 1:\n",
    "        fibonacci = [0]    \n",
    "    print(fibonacci)    \n"
   ]
  },
  {
   "cell_type": "code",
   "execution_count": null,
   "metadata": {},
   "outputs": [],
   "source": [
    "def count_letter(sentence, letter):\n",
    "    return sentence.lower().count(letter.lower())\n",
    "sentence1 = input(\"Введите первое предложение: \")\n",
    "sentence2 = input(\"Введите второе предложение: \")\n",
    "sentence3 = input(\"Введите третье предложение: \")\n",
    "letter = input(\"Введите букву для подсчёта: \")\n",
    "if len(letter) != 1:\n",
    "    print(\"Ошибка: нужно ввести одну букву.\")\n",
    "else:\n",
    "    count1 = count_letter(sentence1, letter)\n",
    "    count2 = count_letter(sentence2, letter)\n",
    "    count3 = count_letter(sentence3, letter)\n",
    "    total_count = count1 + count2 + count3\n",
    "    print(f\"Количество буквы '{letter}' в первом предложении: {count1}\")\n",
    "    print(f\"Количество буквы '{letter}' во втором предложении: {count2}\")\n",
    "    print(f\"Количество буквы '{letter}' в третьем предложении: {count3}\")\n",
    "    print(f\"Общее количество буквы '{letter}' во всех предложениях: {total_count}\")\n"
   ]
  },
  {
   "cell_type": "code",
   "execution_count": null,
   "metadata": {},
   "outputs": [],
   "source": [
    "import random\n",
    "def analyze_random_array(size, start, end):\n",
    "    array = [random.randint(start, end) for _ in range(size)]\n",
    "    max_value = max(array)\n",
    "    min_value = min(array)\n",
    "    total_sum = sum(array)\n",
    "    print(\"Список случайных чисел:\", array)\n",
    "    print(\"Максимальный элемент:\", max_value)\n",
    "    print(\"Минимальный элемент:\", min_value)\n",
    "    print(\"Сумма всех элементов:\", total_sum)\n",
    "size = int(input(\"Введите размер массива: \"))\n",
    "start = int(input(\"Введите минимальное значение: \"))\n",
    "end = int(input(\"Введите максимальное значение: \"))\n",
    "analyze_random_array(size, start, end)"
   ]
  }
 ],
 "metadata": {
  "kernelspec": {
   "display_name": "Python 3",
   "language": "python",
   "name": "python3"
  },
  "language_info": {
   "codemirror_mode": {
    "name": "ipython",
    "version": 3
   },
   "file_extension": ".py",
   "mimetype": "text/x-python",
   "name": "python",
   "nbconvert_exporter": "python",
   "pygments_lexer": "ipython3",
   "version": "3.12.7"
  }
 },
 "nbformat": 4,
 "nbformat_minor": 2
}
